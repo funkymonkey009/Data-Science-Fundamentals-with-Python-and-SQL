{
 "cells": [
  {
   "cell_type": "markdown",
   "id": "cd76a80c-cc4a-4b56-8027-3b8f49726651",
   "metadata": {},
   "source": [
    "##set up libraries"
   ]
  },
  {
   "cell_type": "code",
   "execution_count": 10,
   "id": "e5a46efd-dfad-474e-85d8-7741634e2622",
   "metadata": {},
   "outputs": [],
   "source": [
    "#!pip install yfinance\n",
    "#!pip install bs4\n",
    "#!pip install nbformat\n",
    "#!pip install --upgrade plotly"
   ]
  },
  {
   "cell_type": "code",
   "execution_count": null,
   "id": "3f984a9b-20fa-43d3-a025-2baadf3cfca6",
   "metadata": {},
   "outputs": [],
   "source": [
    "#import yfinance as yf\n",
    "#import pandas as pd\n",
    "#import requests\n",
    "#from bs4 import BeautifulSoup\n",
    "#import plotly.graph_objects as go\n",
    "#from plotly.subplots import make_subplots"
   ]
  },
  {
   "cell_type": "code",
   "execution_count": 9,
   "id": "17999fda-7c4f-44f7-b112-f88723198b26",
   "metadata": {},
   "outputs": [],
   "source": [
    "#import plotly.io as pio\n",
    "#pio.renderers.default = \"iframe\""
   ]
  },
  {
   "cell_type": "markdown",
   "id": "5c56cf91-ffd9-48ab-b0d0-c3dfea4223b5",
   "metadata": {},
   "source": [
    "Question 1: Use yfinance to Extract Stock Data\n",
    "\n",
    "Reset the index, save, and display the first five rows of the tesla_data dataframe using the head function. Upload a screenshot of the results and code from the beginning of Question 1 to the results below."
   ]
  },
  {
   "cell_type": "code",
   "execution_count": null,
   "id": "1dd49149-5a3b-4d0a-babe-fc87ceb7a9ba",
   "metadata": {},
   "outputs": [],
   "source": []
  },
  {
   "cell_type": "markdown",
   "id": "1714edfc-185d-4b45-bd94-05fb53e84a72",
   "metadata": {},
   "source": [
    "Question 2: Use Webscraping to Extract Tesla Revenue Data\n",
    "\n",
    "Display the last five rows of the tesla_revenue dataframe using the tail function. Upload a screenshot of the results."
   ]
  },
  {
   "cell_type": "code",
   "execution_count": null,
   "id": "406ef953-c3c9-41a0-9858-26e78c051cf1",
   "metadata": {},
   "outputs": [],
   "source": []
  },
  {
   "cell_type": "markdown",
   "id": "dd8fc5ff-f63d-458c-982a-fec3c262d1e8",
   "metadata": {},
   "source": [
    "Question 3: Use yfinance to Extract Stock Data\n",
    "\n",
    "Reset the index, save, and display the first five rows of the gme_data dataframe using the head function. Upload a screenshot of the results and code from the beginning of Question 1 to the results below."
   ]
  },
  {
   "cell_type": "code",
   "execution_count": null,
   "id": "05b3049e-4f94-42f1-9239-98382135d0eb",
   "metadata": {},
   "outputs": [],
   "source": []
  },
  {
   "cell_type": "markdown",
   "id": "208935f9-bfbb-488d-a71a-b2fdb9246e3d",
   "metadata": {},
   "source": [
    "Question 4: Use Webscraping to Extract GME Revenue Data\n",
    "\n",
    "Display the last five rows of the gme_revenue dataframe using the tail function. Upload a screenshot of the results."
   ]
  },
  {
   "cell_type": "code",
   "execution_count": null,
   "id": "391f142d-f855-4973-9b13-66f30cf7829b",
   "metadata": {},
   "outputs": [],
   "source": []
  },
  {
   "cell_type": "markdown",
   "id": "c621ea60-9064-4192-b97d-184a52a6aaea",
   "metadata": {},
   "source": [
    "Question 5: Plot Tesla Stock Graph\n",
    "\n",
    "Use the make_graph function to graph the Tesla Stock Data, also provide a title for the graph.\n",
    "\n",
    "Upload a screenshot of your results."
   ]
  },
  {
   "cell_type": "code",
   "execution_count": null,
   "id": "5fdd156d-4407-49c1-a860-569a9b17c494",
   "metadata": {},
   "outputs": [],
   "source": []
  },
  {
   "cell_type": "markdown",
   "id": "7b974773-0b6b-4469-af04-21e76b408203",
   "metadata": {},
   "source": [
    "Question 6: Plot GameStop Stock Graph\n",
    "\n",
    "Use the make_graph function to graph the GameStop Stock Data, also provide a title for the graph.\n",
    "\n",
    "Upload a screenshot of your results."
   ]
  },
  {
   "cell_type": "code",
   "execution_count": null,
   "id": "f2582263-7717-4474-9907-eb225ca2e552",
   "metadata": {},
   "outputs": [],
   "source": []
  }
 ],
 "metadata": {
  "kernelspec": {
   "display_name": "Python 3 (ipykernel)",
   "language": "python",
   "name": "python3"
  },
  "language_info": {
   "codemirror_mode": {
    "name": "ipython",
    "version": 3
   },
   "file_extension": ".py",
   "mimetype": "text/x-python",
   "name": "python",
   "nbconvert_exporter": "python",
   "pygments_lexer": "ipython3",
   "version": "3.12.9"
  }
 },
 "nbformat": 4,
 "nbformat_minor": 5
}
